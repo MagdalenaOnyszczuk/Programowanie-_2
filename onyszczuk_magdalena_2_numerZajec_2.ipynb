{
  "nbformat": 4,
  "nbformat_minor": 0,
  "metadata": {
    "colab": {
      "name": "onyszczuk_magdalena_2_numerZajec_2.ipynb",
      "provenance": []
    },
    "kernelspec": {
      "name": "python3",
      "display_name": "Python 3"
    },
    "language_info": {
      "name": "python"
    }
  },
  "cells": [
    {
      "cell_type": "code",
      "metadata": {
        "colab": {
          "base_uri": "https://localhost:8080/",
          "height": 35
        },
        "id": "5Kfr8VF6QU_8",
        "outputId": "4270ef87-d9de-4aa5-dae5-333acbe2f95f"
      },
      "source": [
        "#1\n",
        "zdanie = \"Uwielbiam zajęcia z programowania\"\n",
        "#a)\n",
        "zdanie[13:23]"
      ],
      "execution_count": null,
      "outputs": [
        {
          "output_type": "execute_result",
          "data": {
            "application/vnd.google.colaboratory.intrinsic+json": {
              "type": "string"
            },
            "text/plain": [
              "'ęcia z pro'"
            ]
          },
          "metadata": {},
          "execution_count": 3
        }
      ]
    },
    {
      "cell_type": "code",
      "metadata": {
        "colab": {
          "base_uri": "https://localhost:8080/",
          "height": 35
        },
        "id": "LBCWyrHAR_kN",
        "outputId": "631e6b00-5900-45f9-b376-c675e377ad58"
      },
      "source": [
        "#b)\n",
        "zdanie[-33:None]"
      ],
      "execution_count": null,
      "outputs": [
        {
          "output_type": "execute_result",
          "data": {
            "application/vnd.google.colaboratory.intrinsic+json": {
              "type": "string"
            },
            "text/plain": [
              "'Uwielbiam zajęcia z programowania'"
            ]
          },
          "metadata": {},
          "execution_count": 13
        }
      ]
    },
    {
      "cell_type": "code",
      "metadata": {
        "colab": {
          "base_uri": "https://localhost:8080/",
          "height": 35
        },
        "id": "T7jzkOySSj80",
        "outputId": "dedc790b-5d87-4993-f3a4-992f9ab616f2"
      },
      "source": [
        "#c)\n",
        "zdanie[2:33:3]"
      ],
      "execution_count": null,
      "outputs": [
        {
          "output_type": "execute_result",
          "data": {
            "application/vnd.google.colaboratory.intrinsic+json": {
              "type": "string"
            },
            "text/plain": [
              "'ibmac pgmaa'"
            ]
          },
          "metadata": {},
          "execution_count": 14
        }
      ]
    },
    {
      "cell_type": "code",
      "metadata": {
        "id": "yshcCWAGS_gs"
      },
      "source": [
        "#2\n",
        "monolog = \"Czarny to mój ulubiony kolor. Niestety, kolor czarny bardzo szybko spiera się z moich ubrań\""
      ],
      "execution_count": 2,
      "outputs": []
    },
    {
      "cell_type": "code",
      "metadata": {
        "colab": {
          "base_uri": "https://localhost:8080/"
        },
        "id": "YQelB5cbTS6E",
        "outputId": "05b37ead-feee-4194-8cc5-d9faf9686d1f"
      },
      "source": [
        "#a)\n",
        "monolog.istitle()"
      ],
      "execution_count": 3,
      "outputs": [
        {
          "output_type": "execute_result",
          "data": {
            "text/plain": [
              "False"
            ]
          },
          "metadata": {},
          "execution_count": 3
        }
      ]
    },
    {
      "cell_type": "code",
      "metadata": {
        "colab": {
          "base_uri": "https://localhost:8080/"
        },
        "id": "-nKllFetTjUU",
        "outputId": "ffbd7fe5-2439-47ea-c117-af3ac68ee756"
      },
      "source": [
        "#b)\n",
        "monolog.startswith(\"C\")"
      ],
      "execution_count": null,
      "outputs": [
        {
          "output_type": "execute_result",
          "data": {
            "text/plain": [
              "True"
            ]
          },
          "metadata": {},
          "execution_count": 17
        }
      ]
    },
    {
      "cell_type": "code",
      "metadata": {
        "colab": {
          "base_uri": "https://localhost:8080/",
          "height": 35
        },
        "id": "bAougLFLL-4w",
        "outputId": "521c83fc-93fb-4808-8e67-6a25fc0088f9"
      },
      "source": [
        "#c\n",
        "\n",
        "monolog.lower().replace(\"czarny\",\"biały\").capitalize()"
      ],
      "execution_count": 14,
      "outputs": [
        {
          "output_type": "execute_result",
          "data": {
            "application/vnd.google.colaboratory.intrinsic+json": {
              "type": "string"
            },
            "text/plain": [
              "'Biały to mój ulubiony kolor. niestety, kolor biały bardzo szybko spiera się z moich ubrań'"
            ]
          },
          "metadata": {},
          "execution_count": 14
        }
      ]
    }
  ]
}