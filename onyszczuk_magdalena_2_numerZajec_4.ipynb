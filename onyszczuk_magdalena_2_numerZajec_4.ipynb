{
  "nbformat": 4,
  "nbformat_minor": 0,
  "metadata": {
    "colab": {
      "name": "onyszczuk_magdalena_2_numerZajec_4.ipynb",
      "provenance": []
    },
    "kernelspec": {
      "name": "python3",
      "display_name": "Python 3"
    },
    "language_info": {
      "name": "python"
    }
  },
  "cells": [
    {
      "cell_type": "code",
      "source": [
        "#1"
      ],
      "metadata": {
        "id": "Diya3wmumWN-"
      },
      "execution_count": null,
      "outputs": []
    },
    {
      "cell_type": "code",
      "source": [
        "n = input(\"Wprowadź cyfrę od 1-10: \")\n",
        "n= int(n)\n",
        "for i in range(n):\n",
        "  for j in range(i):\n",
        "    print(j+1, end = \"\")\n",
        "  print(\"\")\n",
        "\n"
      ],
      "metadata": {
        "id": "zqN5qsCzmYfG",
        "colab": {
          "base_uri": "https://localhost:8080/"
        },
        "outputId": "52213ffc-f183-4361-d823-8c1c01cffe13"
      },
      "execution_count": null,
      "outputs": [
        {
          "output_type": "stream",
          "name": "stdout",
          "text": [
            "Wprowadź cyfrę od 1-10: 10\n",
            "\n",
            "1\n",
            "12\n",
            "123\n",
            "1234\n",
            "12345\n",
            "123456\n",
            "1234567\n",
            "12345678\n",
            "123456789\n"
          ]
        }
      ]
    },
    {
      "cell_type": "code",
      "source": [
        "#2"
      ],
      "metadata": {
        "id": "AZefFRBs-SSU"
      },
      "execution_count": null,
      "outputs": []
    },
    {
      "cell_type": "code",
      "source": [
        " for i in range(0, 4):   \n",
        "    for j in range(0, i + 1):  \n",
        "        print(\"*\", end=\"\")  \n",
        "    print(\" \")  \n",
        "for i in range(6, 0, -1):  \n",
        "    for j in range(0, i - 1):  \n",
        "        print(\"*\", end=\"\")  \n",
        "    print(\" \")  "
      ],
      "metadata": {
        "colab": {
          "base_uri": "https://localhost:8080/"
        },
        "id": "adWsBqYh-Tf8",
        "outputId": "84cbee99-c710-4f67-f3bb-aadc3ff759f7"
      },
      "execution_count": null,
      "outputs": [
        {
          "output_type": "stream",
          "name": "stdout",
          "text": [
            "* \n",
            "** \n",
            "*** \n",
            "**** \n",
            "***** \n",
            "**** \n",
            "*** \n",
            "** \n",
            "* \n",
            " \n"
          ]
        }
      ]
    },
    {
      "cell_type": "code",
      "metadata": {
        "id": "WtI2a2jJakSt"
      },
      "source": [
        "#3"
      ],
      "execution_count": null,
      "outputs": []
    },
    {
      "cell_type": "code",
      "metadata": {
        "id": "-Xg1RH_HauMu"
      },
      "source": [
        "lista = [6, 2, 3, 7, 1, 12, 56, 99, -1]"
      ],
      "execution_count": null,
      "outputs": []
    },
    {
      "cell_type": "code",
      "metadata": {
        "colab": {
          "base_uri": "https://localhost:8080/"
        },
        "id": "V3AJxhWEeX1o",
        "outputId": "000709e1-6265-4440-f1cc-d51aa1b9c00f"
      },
      "source": [
        "for elem in lista:\n",
        "  if elem > 9:\n",
        "    indeks = lista.index(elem)\n",
        "    lista[indeks] = \"zmiana\"\n",
        "print(lista)"
      ],
      "execution_count": null,
      "outputs": [
        {
          "output_type": "stream",
          "name": "stdout",
          "text": [
            "[6, 2, 3, 7, 1, 'zmiana', 'zmiana', 'zmiana', -1]\n"
          ]
        }
      ]
    },
    {
      "cell_type": "code",
      "metadata": {
        "colab": {
          "base_uri": "https://localhost:8080/"
        },
        "id": "7I5jgTVMfGV3",
        "outputId": "66bb6635-b3e5-4c37-8cb5-054ab98d57f4"
      },
      "source": [
        "lista1 = [6, 2, 3, 7, 1, 12, 56, 99, -1]\n",
        "\n",
        "#lista1.sort()\n",
        "#lista1[0]\n",
        "\n",
        "najmniejszy_element = 100\n",
        "\n",
        "for elem in lista1:\n",
        "  if elem < najmniejszy_element:\n",
        "    najmniejszy_element = elem\n",
        "\n",
        "print(najmniejszy_element)"
      ],
      "execution_count": null,
      "outputs": [
        {
          "output_type": "stream",
          "name": "stdout",
          "text": [
            "-1\n"
          ]
        }
      ]
    }
  ]
}