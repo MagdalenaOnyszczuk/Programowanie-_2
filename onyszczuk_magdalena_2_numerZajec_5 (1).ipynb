{
  "nbformat": 4,
  "nbformat_minor": 0,
  "metadata": {
    "colab": {
      "name": "onyszczuk_magdalena_2_numerZajec_5.ipynb",
      "provenance": []
    },
    "kernelspec": {
      "name": "python3",
      "display_name": "Python 3"
    },
    "language_info": {
      "name": "python"
    }
  },
  "cells": [
    {
      "cell_type": "code",
      "metadata": {
        "id": "CQraTHKVw-_h",
        "colab": {
          "base_uri": "https://localhost:8080/"
        },
        "outputId": "66b40de9-e9f6-4bdd-9dbe-23513c19bb74"
      },
      "source": [
        "#1 gra\n",
        "\n",
        "liczba = 7\n",
        "\n",
        "while True:\n",
        "  proba = int(input(\"Spróbuj odgadnąć liczbę całkowitą.: \"))\n",
        "  if proba == liczba:\n",
        "    print(\"Brawo!\")\n",
        "    break\n",
        "  elif proba < liczba:\n",
        "    print(\"Szukana liczba jest większa. Spróbuj jeszcze raz.\")\n",
        "  elif proba > liczba:\n",
        "    print(\"Szukana liczba jest mniejsza. Spróbuj jeszcze raz.\")\n",
        "\n"
      ],
      "execution_count": null,
      "outputs": [
        {
          "output_type": "stream",
          "name": "stdout",
          "text": [
            "Spróbuj odgadnąć liczbę całkowitą.: 86\n",
            "Szukana liczba jest mniejsza. Spróbuj jeszcze raz.\n",
            "Spróbuj odgadnąć liczbę całkowitą.: 34\n",
            "Szukana liczba jest mniejsza. Spróbuj jeszcze raz.\n",
            "Spróbuj odgadnąć liczbę całkowitą.: 2\n",
            "Szukana liczba jest większa. Spróbuj jeszcze raz.\n",
            "Spróbuj odgadnąć liczbę całkowitą.: 7\n",
            "Brawo!\n"
          ]
        }
      ]
    },
    {
      "cell_type": "code",
      "metadata": {
        "id": "Urm4v0TizWUL"
      },
      "source": [
        "#2\n",
        "lista = [\"Ala\", \"Patryk\", \"Jacek\"]\n",
        "lista_2 = []\n",
        "\n"
      ],
      "execution_count": 20,
      "outputs": []
    },
    {
      "cell_type": "code",
      "source": [
        "while len(lista) != 0 :\n",
        "  elem = lista.pop(0)\n",
        "  lista_2.append(elem)\n",
        "print(lista_2)"
      ],
      "metadata": {
        "colab": {
          "base_uri": "https://localhost:8080/"
        },
        "id": "Uh8FSLe6p0Em",
        "outputId": "8bbef7b9-d9ed-4159-a7b8-1a5e99b9474c"
      },
      "execution_count": 21,
      "outputs": [
        {
          "output_type": "stream",
          "name": "stdout",
          "text": [
            "['Ala', 'Patryk', 'Jacek']\n"
          ]
        }
      ]
    },
    {
      "cell_type": "code",
      "metadata": {
        "id": "zJZQE52GzXR6"
      },
      "source": [
        "#3\n",
        "lista = [\"Pomidor\", \"Czosnek\", \"Oliwa\", \"\", \"Makaron\"]\n",
        "lista_2 = []"
      ],
      "execution_count": 23,
      "outputs": []
    },
    {
      "cell_type": "code",
      "source": [
        "while len(lista) != 0 :\n",
        "  elem = lista.pop(0)\n",
        "  if elem == \"\":\n",
        "    break\n",
        "  lista_2.append(elem)\n",
        "print(lista_2) "
      ],
      "metadata": {
        "colab": {
          "base_uri": "https://localhost:8080/"
        },
        "id": "0Rl4pHDlxZFA",
        "outputId": "32451b8b-66b2-490f-c6b7-efd17e9804b8"
      },
      "execution_count": 24,
      "outputs": [
        {
          "output_type": "stream",
          "name": "stdout",
          "text": [
            "['Pomidor', 'Czosnek', 'Oliwa']\n"
          ]
        }
      ]
    },
    {
      "cell_type": "code",
      "metadata": {
        "id": "Q7Nw3beFzYBp"
      },
      "source": [
        "#4* - kalkulator pro"
      ],
      "execution_count": null,
      "outputs": []
    },
    {
      "cell_type": "code",
      "source": [
        "while True:\n",
        "  x = input(\"Podaj pierwszą liczbę: \")\n",
        "  if x.isdigit() == True:\n",
        "    x_int = int(x)\n",
        "    print(x_int)\n",
        "  elif x == \"Koniec z liczeniem\":\n",
        "    break\n",
        "  else:\n",
        "    print(\"błąd\")\n",
        "    x = input(\"Podaj pierwszą liczbę: \")\n",
        "  print(\"--------\")\n",
        "\n",
        "\n",
        "  y = input(\"Podaj drugą liczbę: \")\n",
        "  if y.isdigit() == True:\n",
        "    y_int = int(y)\n",
        "    print(y_int)\n",
        "  elif y == \"Koniec z liczeniem\":\n",
        "    break\n",
        "  else:\n",
        "    print(\"błąd\")\n",
        "    y = input(\"Podaj pierwszą liczbę: \")\n",
        "  print(\"--------\")\n",
        "\n",
        "\n",
        "  print(\"+\",\",\", \"-\",\",\", \"*\", \",\", \"/\")\n",
        "  dzialanie =  input(\"Jakie działanie chcesz wykonać?\")\n",
        "  if dzialanie == \"+\":\n",
        "    print(x_int + y_int)\n",
        "  elif dzialanie == \"-\":\n",
        "    print(x_int - y_int)\n",
        "  elif dzialanie == \"*\":\n",
        "    print(x_int * y_int)\n",
        "  elif dzialanie == \"/\":\n",
        "    print(x_int / y_int)\n",
        "  elif dzialanie == \"Koniec z liczeniem\":\n",
        "    break\n",
        "  else:\n",
        "    print(\"Wprowadź odpowiedzni symbol.\")"
      ],
      "metadata": {
        "colab": {
          "base_uri": "https://localhost:8080/"
        },
        "id": "whZpYcrJzVPd",
        "outputId": "964f0a18-4ef9-421b-b7ce-249556f954b9"
      },
      "execution_count": 29,
      "outputs": [
        {
          "name": "stdout",
          "output_type": "stream",
          "text": [
            "Podaj pierwszą liczbę: 9\n",
            "9\n",
            "--------\n",
            "Podaj drugą liczbę: 8\n",
            "8\n",
            "--------\n",
            "+ , - , * , /\n",
            "Jakie działanie chcesz wykonać?+\n",
            "17\n",
            "Podaj pierwszą liczbę: 9\n",
            "9\n",
            "--------\n",
            "Podaj drugą liczbę: Koniec z liczeniem\n"
          ]
        }
      ]
    }
  ]
}